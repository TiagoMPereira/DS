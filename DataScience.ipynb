{
 "cells": [
  {
   "cell_type": "markdown",
   "metadata": {},
   "source": [
    "# Data Science\n",
    "## Como começar na Ciência de Dados\n",
    "######                                                    Tiago de Morais Pereira - Maio/2022"
   ]
  },
  {
   "cell_type": "markdown",
   "metadata": {},
   "source": [
    "___"
   ]
  },
  {
   "cell_type": "code",
   "execution_count": 1,
   "metadata": {},
   "outputs": [],
   "source": [
    "# IMPORTAÇÕES\n",
    "import numpy as np                # Numpy\n",
    "import pandas as pd               # Pandas\n",
    "import matplotlib.pyplot as plt   # Matplotlib\n",
    "import seaborn as sns             # Seaborn"
   ]
  },
  {
   "cell_type": "markdown",
   "metadata": {},
   "source": [
    "### Numpy\n",
    "\n",
    "#### Numerical Python\n",
    "- Biblioteca muito utlizada para computação científica\n",
    "- Costruída com base em C, o que traz velocidade na execução\n",
    "- Dados homogêneos\n",
    "- Estrutura de arrays"
   ]
  },
  {
   "cell_type": "markdown",
   "metadata": {},
   "source": [
    "#### Arrays\n",
    "\n",
    "#### Criando arrays"
   ]
  },
  {
   "cell_type": "code",
   "execution_count": 2,
   "metadata": {},
   "outputs": [
    {
     "name": "stdout",
     "output_type": "stream",
     "text": [
      "[0 1 2]\n",
      "[10 20 30]\n",
      "[10 21 32]\n"
     ]
    }
   ],
   "source": [
    "array1 = np.array([0, 1, 2])\n",
    "array2 = np.array([10, 20, 30])\n",
    "\n",
    "print(array1)\n",
    "print(array2)\n",
    "print(array1 + array2)"
   ]
  },
  {
   "cell_type": "markdown",
   "metadata": {},
   "source": [
    "#### Array bidimensional"
   ]
  },
  {
   "cell_type": "code",
   "execution_count": 3,
   "metadata": {},
   "outputs": [
    {
     "name": "stdout",
     "output_type": "stream",
     "text": [
      "[[1 2 3]\n",
      " [4 5 6]]\n"
     ]
    }
   ],
   "source": [
    "array2d = np.array([[1, 2, 3],[4, 5, 6]])\n",
    "\n",
    "print(array2d)"
   ]
  },
  {
   "cell_type": "markdown",
   "metadata": {},
   "source": [
    "#### Array aleatório"
   ]
  },
  {
   "cell_type": "code",
   "execution_count": 4,
   "metadata": {},
   "outputs": [
    {
     "name": "stdout",
     "output_type": "stream",
     "text": [
      "[0.83044864 0.61087272 0.01022981 0.73321607 0.67505526 0.55288514\n",
      " 0.15318257 0.28638719 0.36205887 0.26034206]\n"
     ]
    }
   ],
   "source": [
    "random_array = np.random.random(size = 10)\n",
    "\n",
    "print(random_array)"
   ]
  },
  {
   "cell_type": "markdown",
   "metadata": {},
   "source": [
    "#### Estatísticas do array"
   ]
  },
  {
   "cell_type": "code",
   "execution_count": 6,
   "metadata": {},
   "outputs": [
    {
     "name": "stdout",
     "output_type": "stream",
     "text": [
      "Maximo: 0.8304486365285768\n",
      "Minimo: 0.010229813295328238\n",
      "Média: 0.44746783286978725\n",
      "Mediana: 0.4574720009172164\n"
     ]
    }
   ],
   "source": [
    "maximo = np.max(random_array)\n",
    "minimo = np.min(random_array)\n",
    "media = np.mean(random_array)\n",
    "mediana = np.median(random_array)\n",
    "\n",
    "print(f\"Maximo: {maximo}\")\n",
    "print(f\"Minimo: {minimo}\")\n",
    "print(f\"Média: {media}\")\n",
    "print(f\"Mediana: {mediana}\")"
   ]
  },
  {
   "cell_type": "markdown",
   "metadata": {},
   "source": [
    "#### Ordenando array e acessando valores"
   ]
  },
  {
   "cell_type": "code",
   "execution_count": 7,
   "metadata": {},
   "outputs": [
    {
     "name": "stdout",
     "output_type": "stream",
     "text": [
      "[0.01022981 0.15318257 0.26034206 0.28638719 0.36205887 0.55288514\n",
      " 0.61087272 0.67505526 0.73321607 0.83044864]\n",
      "0.010229813295328238\n",
      "0.8304486365285768\n",
      "[0.15318257 0.26034206 0.28638719 0.36205887 0.55288514]\n",
      "[0.15318257 0.26034206 0.28638719 0.36205887 0.55288514 0.61087272\n",
      " 0.67505526 0.73321607 0.83044864]\n"
     ]
    }
   ],
   "source": [
    "random_array.sort()          # Ordenar um array\n",
    "\n",
    "print(random_array)\n",
    "\n",
    "print(random_array[0])       # Acessando o primeiro valor\n",
    "\n",
    "print(random_array[-1])      # Acessando último valor\n",
    "\n",
    "print(random_array[1:6])     # Acessando valores entre as posições 1 e 5 (inclusive)\n",
    "\n",
    "print(random_array[1:])      # Acessando todos os valores a partir do segundo"
   ]
  },
  {
   "cell_type": "markdown",
   "metadata": {},
   "source": [
    "---"
   ]
  },
  {
   "cell_type": "markdown",
   "metadata": {},
   "source": [
    "### Pandas\n",
    "\n",
    "- Biblioteca para manipulação e análise de dados"
   ]
  },
  {
   "cell_type": "markdown",
   "metadata": {},
   "source": [
    "#### Abrindo um dataset no formato .csv"
   ]
  },
  {
   "cell_type": "code",
   "execution_count": 8,
   "metadata": {},
   "outputs": [
    {
     "data": {
      "text/html": [
       "<div>\n",
       "<style scoped>\n",
       "    .dataframe tbody tr th:only-of-type {\n",
       "        vertical-align: middle;\n",
       "    }\n",
       "\n",
       "    .dataframe tbody tr th {\n",
       "        vertical-align: top;\n",
       "    }\n",
       "\n",
       "    .dataframe thead th {\n",
       "        text-align: right;\n",
       "    }\n",
       "</style>\n",
       "<table border=\"1\" class=\"dataframe\">\n",
       "  <thead>\n",
       "    <tr style=\"text-align: right;\">\n",
       "      <th></th>\n",
       "      <th>tamanho</th>\n",
       "      <th>tipo</th>\n",
       "      <th>dist_centro</th>\n",
       "      <th>vida</th>\n",
       "      <th>rodovia</th>\n",
       "      <th>ar</th>\n",
       "      <th>rio</th>\n",
       "      <th>quartos</th>\n",
       "      <th>criminalidade</th>\n",
       "      <th>idade</th>\n",
       "      <th>preco</th>\n",
       "    </tr>\n",
       "  </thead>\n",
       "  <tbody>\n",
       "    <tr>\n",
       "      <th>0</th>\n",
       "      <td>258.979836</td>\n",
       "      <td>casa</td>\n",
       "      <td>50.982232</td>\n",
       "      <td>26.566123</td>\n",
       "      <td>20.117523</td>\n",
       "      <td>42.841514</td>\n",
       "      <td>0</td>\n",
       "      <td>1</td>\n",
       "      <td>66.214560</td>\n",
       "      <td>73</td>\n",
       "      <td>218.543053</td>\n",
       "    </tr>\n",
       "    <tr>\n",
       "      <th>1</th>\n",
       "      <td>572.320514</td>\n",
       "      <td>casa</td>\n",
       "      <td>15.838171</td>\n",
       "      <td>55.132153</td>\n",
       "      <td>8.006340</td>\n",
       "      <td>67.396325</td>\n",
       "      <td>0</td>\n",
       "      <td>7</td>\n",
       "      <td>58.033589</td>\n",
       "      <td>43</td>\n",
       "      <td>477.821438</td>\n",
       "    </tr>\n",
       "    <tr>\n",
       "      <th>2</th>\n",
       "      <td>515.882047</td>\n",
       "      <td>casa</td>\n",
       "      <td>33.539122</td>\n",
       "      <td>62.530447</td>\n",
       "      <td>47.445318</td>\n",
       "      <td>48.336982</td>\n",
       "      <td>0</td>\n",
       "      <td>7</td>\n",
       "      <td>37.916789</td>\n",
       "      <td>21</td>\n",
       "      <td>379.397274</td>\n",
       "    </tr>\n",
       "    <tr>\n",
       "      <th>3</th>\n",
       "      <td>507.534452</td>\n",
       "      <td>casa</td>\n",
       "      <td>62.797544</td>\n",
       "      <td>35.548906</td>\n",
       "      <td>0.996923</td>\n",
       "      <td>47.924842</td>\n",
       "      <td>0</td>\n",
       "      <td>0</td>\n",
       "      <td>62.411051</td>\n",
       "      <td>87</td>\n",
       "      <td>319.396318</td>\n",
       "    </tr>\n",
       "    <tr>\n",
       "      <th>4</th>\n",
       "      <td>302.390157</td>\n",
       "      <td>casa</td>\n",
       "      <td>67.453921</td>\n",
       "      <td>14.997247</td>\n",
       "      <td>8.476615</td>\n",
       "      <td>30.006446</td>\n",
       "      <td>1</td>\n",
       "      <td>2</td>\n",
       "      <td>76.244068</td>\n",
       "      <td>73</td>\n",
       "      <td>120.208388</td>\n",
       "    </tr>\n",
       "    <tr>\n",
       "      <th>...</th>\n",
       "      <td>...</td>\n",
       "      <td>...</td>\n",
       "      <td>...</td>\n",
       "      <td>...</td>\n",
       "      <td>...</td>\n",
       "      <td>...</td>\n",
       "      <td>...</td>\n",
       "      <td>...</td>\n",
       "      <td>...</td>\n",
       "      <td>...</td>\n",
       "      <td>...</td>\n",
       "    </tr>\n",
       "    <tr>\n",
       "      <th>495</th>\n",
       "      <td>302.790425</td>\n",
       "      <td>casa</td>\n",
       "      <td>46.004756</td>\n",
       "      <td>35.363002</td>\n",
       "      <td>57.973711</td>\n",
       "      <td>30.596408</td>\n",
       "      <td>0</td>\n",
       "      <td>1</td>\n",
       "      <td>58.347832</td>\n",
       "      <td>83</td>\n",
       "      <td>209.008503</td>\n",
       "    </tr>\n",
       "    <tr>\n",
       "      <th>496</th>\n",
       "      <td>489.028081</td>\n",
       "      <td>apartamento</td>\n",
       "      <td>52.032385</td>\n",
       "      <td>54.654549</td>\n",
       "      <td>66.703686</td>\n",
       "      <td>64.062854</td>\n",
       "      <td>0</td>\n",
       "      <td>2</td>\n",
       "      <td>45.626268</td>\n",
       "      <td>53</td>\n",
       "      <td>312.645250</td>\n",
       "    </tr>\n",
       "    <tr>\n",
       "      <th>497</th>\n",
       "      <td>164.580563</td>\n",
       "      <td>apartamento</td>\n",
       "      <td>72.875066</td>\n",
       "      <td>32.759333</td>\n",
       "      <td>91.157689</td>\n",
       "      <td>53.387633</td>\n",
       "      <td>1</td>\n",
       "      <td>0</td>\n",
       "      <td>50.805581</td>\n",
       "      <td>45</td>\n",
       "      <td>84.980587</td>\n",
       "    </tr>\n",
       "    <tr>\n",
       "      <th>498</th>\n",
       "      <td>639.080935</td>\n",
       "      <td>apartamento</td>\n",
       "      <td>32.637988</td>\n",
       "      <td>76.463793</td>\n",
       "      <td>34.562017</td>\n",
       "      <td>51.273768</td>\n",
       "      <td>0</td>\n",
       "      <td>5</td>\n",
       "      <td>31.496553</td>\n",
       "      <td>49</td>\n",
       "      <td>488.477663</td>\n",
       "    </tr>\n",
       "    <tr>\n",
       "      <th>499</th>\n",
       "      <td>641.797026</td>\n",
       "      <td>casa</td>\n",
       "      <td>29.214648</td>\n",
       "      <td>59.362497</td>\n",
       "      <td>62.150731</td>\n",
       "      <td>69.035100</td>\n",
       "      <td>0</td>\n",
       "      <td>1</td>\n",
       "      <td>48.745825</td>\n",
       "      <td>77</td>\n",
       "      <td>493.794835</td>\n",
       "    </tr>\n",
       "  </tbody>\n",
       "</table>\n",
       "<p>500 rows × 11 columns</p>\n",
       "</div>"
      ],
      "text/plain": [
       "        tamanho         tipo  dist_centro       vida    rodovia         ar  \\\n",
       "0    258.979836         casa    50.982232  26.566123  20.117523  42.841514   \n",
       "1    572.320514         casa    15.838171  55.132153   8.006340  67.396325   \n",
       "2    515.882047         casa    33.539122  62.530447  47.445318  48.336982   \n",
       "3    507.534452         casa    62.797544  35.548906   0.996923  47.924842   \n",
       "4    302.390157         casa    67.453921  14.997247   8.476615  30.006446   \n",
       "..          ...          ...          ...        ...        ...        ...   \n",
       "495  302.790425         casa    46.004756  35.363002  57.973711  30.596408   \n",
       "496  489.028081  apartamento    52.032385  54.654549  66.703686  64.062854   \n",
       "497  164.580563  apartamento    72.875066  32.759333  91.157689  53.387633   \n",
       "498  639.080935  apartamento    32.637988  76.463793  34.562017  51.273768   \n",
       "499  641.797026         casa    29.214648  59.362497  62.150731  69.035100   \n",
       "\n",
       "     rio  quartos  criminalidade  idade       preco  \n",
       "0      0        1      66.214560     73  218.543053  \n",
       "1      0        7      58.033589     43  477.821438  \n",
       "2      0        7      37.916789     21  379.397274  \n",
       "3      0        0      62.411051     87  319.396318  \n",
       "4      1        2      76.244068     73  120.208388  \n",
       "..   ...      ...            ...    ...         ...  \n",
       "495    0        1      58.347832     83  209.008503  \n",
       "496    0        2      45.626268     53  312.645250  \n",
       "497    1        0      50.805581     45   84.980587  \n",
       "498    0        5      31.496553     49  488.477663  \n",
       "499    0        1      48.745825     77  493.794835  \n",
       "\n",
       "[500 rows x 11 columns]"
      ]
     },
     "execution_count": 8,
     "metadata": {},
     "output_type": "execute_result"
    }
   ],
   "source": [
    "dataset = pd.read_csv(\"dataset.csv\", index_col = 0)\n",
    "dataset"
   ]
  },
  {
   "cell_type": "markdown",
   "metadata": {},
   "source": [
    "#### Separando coluna específica"
   ]
  },
  {
   "cell_type": "code",
   "execution_count": 9,
   "metadata": {},
   "outputs": [
    {
     "data": {
      "text/plain": [
       "0      258.979836\n",
       "1      572.320514\n",
       "2      515.882047\n",
       "3      507.534452\n",
       "4      302.390157\n",
       "          ...    \n",
       "495    302.790425\n",
       "496    489.028081\n",
       "497    164.580563\n",
       "498    639.080935\n",
       "499    641.797026\n",
       "Name: tamanho, Length: 500, dtype: float64"
      ]
     },
     "execution_count": 9,
     "metadata": {},
     "output_type": "execute_result"
    }
   ],
   "source": [
    "tamanho = dataset[\"tamanho\"]\n",
    "tamanho"
   ]
  },
  {
   "cell_type": "markdown",
   "metadata": {},
   "source": [
    "#### Retirando colunas com o método loc\n",
    "\n",
    "dataset.loc[linhas, colunas]\n",
    "\n",
    "##### Selecione todas as linhas das colunas \"tipo\" e \"quartos\""
   ]
  },
  {
   "cell_type": "code",
   "execution_count": 12,
   "metadata": {},
   "outputs": [
    {
     "data": {
      "text/html": [
       "<div>\n",
       "<style scoped>\n",
       "    .dataframe tbody tr th:only-of-type {\n",
       "        vertical-align: middle;\n",
       "    }\n",
       "\n",
       "    .dataframe tbody tr th {\n",
       "        vertical-align: top;\n",
       "    }\n",
       "\n",
       "    .dataframe thead th {\n",
       "        text-align: right;\n",
       "    }\n",
       "</style>\n",
       "<table border=\"1\" class=\"dataframe\">\n",
       "  <thead>\n",
       "    <tr style=\"text-align: right;\">\n",
       "      <th></th>\n",
       "      <th>tipo</th>\n",
       "      <th>quartos</th>\n",
       "    </tr>\n",
       "  </thead>\n",
       "  <tbody>\n",
       "    <tr>\n",
       "      <th>0</th>\n",
       "      <td>casa</td>\n",
       "      <td>1</td>\n",
       "    </tr>\n",
       "    <tr>\n",
       "      <th>1</th>\n",
       "      <td>casa</td>\n",
       "      <td>7</td>\n",
       "    </tr>\n",
       "    <tr>\n",
       "      <th>2</th>\n",
       "      <td>casa</td>\n",
       "      <td>7</td>\n",
       "    </tr>\n",
       "    <tr>\n",
       "      <th>3</th>\n",
       "      <td>casa</td>\n",
       "      <td>0</td>\n",
       "    </tr>\n",
       "    <tr>\n",
       "      <th>4</th>\n",
       "      <td>casa</td>\n",
       "      <td>2</td>\n",
       "    </tr>\n",
       "    <tr>\n",
       "      <th>...</th>\n",
       "      <td>...</td>\n",
       "      <td>...</td>\n",
       "    </tr>\n",
       "    <tr>\n",
       "      <th>495</th>\n",
       "      <td>casa</td>\n",
       "      <td>1</td>\n",
       "    </tr>\n",
       "    <tr>\n",
       "      <th>496</th>\n",
       "      <td>apartamento</td>\n",
       "      <td>2</td>\n",
       "    </tr>\n",
       "    <tr>\n",
       "      <th>497</th>\n",
       "      <td>apartamento</td>\n",
       "      <td>0</td>\n",
       "    </tr>\n",
       "    <tr>\n",
       "      <th>498</th>\n",
       "      <td>apartamento</td>\n",
       "      <td>5</td>\n",
       "    </tr>\n",
       "    <tr>\n",
       "      <th>499</th>\n",
       "      <td>casa</td>\n",
       "      <td>1</td>\n",
       "    </tr>\n",
       "  </tbody>\n",
       "</table>\n",
       "<p>500 rows × 2 columns</p>\n",
       "</div>"
      ],
      "text/plain": [
       "            tipo  quartos\n",
       "0           casa        1\n",
       "1           casa        7\n",
       "2           casa        7\n",
       "3           casa        0\n",
       "4           casa        2\n",
       "..           ...      ...\n",
       "495         casa        1\n",
       "496  apartamento        2\n",
       "497  apartamento        0\n",
       "498  apartamento        5\n",
       "499         casa        1\n",
       "\n",
       "[500 rows x 2 columns]"
      ]
     },
     "execution_count": 12,
     "metadata": {},
     "output_type": "execute_result"
    }
   ],
   "source": [
    "tipo_quarto = dataset.loc[:, [\"tipo\", \"quartos\"]]\n",
    "tipo_quarto"
   ]
  },
  {
   "cell_type": "markdown",
   "metadata": {},
   "source": [
    "##### Selecione as 10 primeiras linhas das colunas \"vida\" e \"rio\""
   ]
  },
  {
   "cell_type": "code",
   "execution_count": 16,
   "metadata": {},
   "outputs": [
    {
     "data": {
      "text/html": [
       "<div>\n",
       "<style scoped>\n",
       "    .dataframe tbody tr th:only-of-type {\n",
       "        vertical-align: middle;\n",
       "    }\n",
       "\n",
       "    .dataframe tbody tr th {\n",
       "        vertical-align: top;\n",
       "    }\n",
       "\n",
       "    .dataframe thead th {\n",
       "        text-align: right;\n",
       "    }\n",
       "</style>\n",
       "<table border=\"1\" class=\"dataframe\">\n",
       "  <thead>\n",
       "    <tr style=\"text-align: right;\">\n",
       "      <th></th>\n",
       "      <th>vida</th>\n",
       "      <th>rio</th>\n",
       "    </tr>\n",
       "  </thead>\n",
       "  <tbody>\n",
       "    <tr>\n",
       "      <th>0</th>\n",
       "      <td>26.566123</td>\n",
       "      <td>0</td>\n",
       "    </tr>\n",
       "    <tr>\n",
       "      <th>1</th>\n",
       "      <td>55.132153</td>\n",
       "      <td>0</td>\n",
       "    </tr>\n",
       "    <tr>\n",
       "      <th>2</th>\n",
       "      <td>62.530447</td>\n",
       "      <td>0</td>\n",
       "    </tr>\n",
       "    <tr>\n",
       "      <th>3</th>\n",
       "      <td>35.548906</td>\n",
       "      <td>0</td>\n",
       "    </tr>\n",
       "    <tr>\n",
       "      <th>4</th>\n",
       "      <td>14.997247</td>\n",
       "      <td>1</td>\n",
       "    </tr>\n",
       "    <tr>\n",
       "      <th>5</th>\n",
       "      <td>33.672424</td>\n",
       "      <td>0</td>\n",
       "    </tr>\n",
       "    <tr>\n",
       "      <th>6</th>\n",
       "      <td>17.517628</td>\n",
       "      <td>1</td>\n",
       "    </tr>\n",
       "    <tr>\n",
       "      <th>7</th>\n",
       "      <td>71.926071</td>\n",
       "      <td>1</td>\n",
       "    </tr>\n",
       "    <tr>\n",
       "      <th>8</th>\n",
       "      <td>31.903733</td>\n",
       "      <td>0</td>\n",
       "    </tr>\n",
       "    <tr>\n",
       "      <th>9</th>\n",
       "      <td>55.918512</td>\n",
       "      <td>1</td>\n",
       "    </tr>\n",
       "    <tr>\n",
       "      <th>10</th>\n",
       "      <td>0.190697</td>\n",
       "      <td>0</td>\n",
       "    </tr>\n",
       "  </tbody>\n",
       "</table>\n",
       "</div>"
      ],
      "text/plain": [
       "         vida  rio\n",
       "0   26.566123    0\n",
       "1   55.132153    0\n",
       "2   62.530447    0\n",
       "3   35.548906    0\n",
       "4   14.997247    1\n",
       "5   33.672424    0\n",
       "6   17.517628    1\n",
       "7   71.926071    1\n",
       "8   31.903733    0\n",
       "9   55.918512    1\n",
       "10   0.190697    0"
      ]
     },
     "execution_count": 16,
     "metadata": {},
     "output_type": "execute_result"
    }
   ],
   "source": [
    "vida_rio = dataset.loc[:10, [\"vida\",\"rio\"]]\n",
    "vida_rio"
   ]
  },
  {
   "cell_type": "markdown",
   "metadata": {},
   "source": [
    "##### Selecione todas as colunas dos imóveis com mais de três quartos"
   ]
  },
  {
   "cell_type": "code",
   "execution_count": 17,
   "metadata": {},
   "outputs": [
    {
     "data": {
      "text/html": [
       "<div>\n",
       "<style scoped>\n",
       "    .dataframe tbody tr th:only-of-type {\n",
       "        vertical-align: middle;\n",
       "    }\n",
       "\n",
       "    .dataframe tbody tr th {\n",
       "        vertical-align: top;\n",
       "    }\n",
       "\n",
       "    .dataframe thead th {\n",
       "        text-align: right;\n",
       "    }\n",
       "</style>\n",
       "<table border=\"1\" class=\"dataframe\">\n",
       "  <thead>\n",
       "    <tr style=\"text-align: right;\">\n",
       "      <th></th>\n",
       "      <th>tamanho</th>\n",
       "      <th>tipo</th>\n",
       "      <th>dist_centro</th>\n",
       "      <th>vida</th>\n",
       "      <th>rodovia</th>\n",
       "      <th>ar</th>\n",
       "      <th>rio</th>\n",
       "      <th>quartos</th>\n",
       "      <th>criminalidade</th>\n",
       "      <th>idade</th>\n",
       "      <th>preco</th>\n",
       "    </tr>\n",
       "  </thead>\n",
       "  <tbody>\n",
       "    <tr>\n",
       "      <th>1</th>\n",
       "      <td>572.320514</td>\n",
       "      <td>casa</td>\n",
       "      <td>15.838171</td>\n",
       "      <td>55.132153</td>\n",
       "      <td>8.006340</td>\n",
       "      <td>67.396325</td>\n",
       "      <td>0</td>\n",
       "      <td>7</td>\n",
       "      <td>58.033589</td>\n",
       "      <td>43</td>\n",
       "      <td>477.821438</td>\n",
       "    </tr>\n",
       "    <tr>\n",
       "      <th>2</th>\n",
       "      <td>515.882047</td>\n",
       "      <td>casa</td>\n",
       "      <td>33.539122</td>\n",
       "      <td>62.530447</td>\n",
       "      <td>47.445318</td>\n",
       "      <td>48.336982</td>\n",
       "      <td>0</td>\n",
       "      <td>7</td>\n",
       "      <td>37.916789</td>\n",
       "      <td>21</td>\n",
       "      <td>379.397274</td>\n",
       "    </tr>\n",
       "    <tr>\n",
       "      <th>7</th>\n",
       "      <td>666.741258</td>\n",
       "      <td>apartamento</td>\n",
       "      <td>44.603144</td>\n",
       "      <td>71.926071</td>\n",
       "      <td>91.513882</td>\n",
       "      <td>43.077183</td>\n",
       "      <td>1</td>\n",
       "      <td>4</td>\n",
       "      <td>28.255560</td>\n",
       "      <td>36</td>\n",
       "      <td>439.779266</td>\n",
       "    </tr>\n",
       "    <tr>\n",
       "      <th>8</th>\n",
       "      <td>416.396989</td>\n",
       "      <td>casa</td>\n",
       "      <td>37.648054</td>\n",
       "      <td>31.903733</td>\n",
       "      <td>85.451544</td>\n",
       "      <td>46.746370</td>\n",
       "      <td>0</td>\n",
       "      <td>5</td>\n",
       "      <td>71.531668</td>\n",
       "      <td>53</td>\n",
       "      <td>320.501755</td>\n",
       "    </tr>\n",
       "    <tr>\n",
       "      <th>12</th>\n",
       "      <td>694.280249</td>\n",
       "      <td>apartamento</td>\n",
       "      <td>33.946702</td>\n",
       "      <td>81.950009</td>\n",
       "      <td>84.551081</td>\n",
       "      <td>61.363396</td>\n",
       "      <td>0</td>\n",
       "      <td>8</td>\n",
       "      <td>20.730264</td>\n",
       "      <td>55</td>\n",
       "      <td>424.599188</td>\n",
       "    </tr>\n",
       "    <tr>\n",
       "      <th>...</th>\n",
       "      <td>...</td>\n",
       "      <td>...</td>\n",
       "      <td>...</td>\n",
       "      <td>...</td>\n",
       "      <td>...</td>\n",
       "      <td>...</td>\n",
       "      <td>...</td>\n",
       "      <td>...</td>\n",
       "      <td>...</td>\n",
       "      <td>...</td>\n",
       "      <td>...</td>\n",
       "    </tr>\n",
       "    <tr>\n",
       "      <th>481</th>\n",
       "      <td>404.554191</td>\n",
       "      <td>casa</td>\n",
       "      <td>45.545652</td>\n",
       "      <td>70.606871</td>\n",
       "      <td>53.660751</td>\n",
       "      <td>62.300850</td>\n",
       "      <td>0</td>\n",
       "      <td>5</td>\n",
       "      <td>55.416531</td>\n",
       "      <td>20</td>\n",
       "      <td>363.086910</td>\n",
       "    </tr>\n",
       "    <tr>\n",
       "      <th>484</th>\n",
       "      <td>392.850877</td>\n",
       "      <td>apartamento</td>\n",
       "      <td>52.071348</td>\n",
       "      <td>40.498264</td>\n",
       "      <td>84.253451</td>\n",
       "      <td>47.260465</td>\n",
       "      <td>1</td>\n",
       "      <td>5</td>\n",
       "      <td>61.289753</td>\n",
       "      <td>63</td>\n",
       "      <td>312.941440</td>\n",
       "    </tr>\n",
       "    <tr>\n",
       "      <th>485</th>\n",
       "      <td>501.504322</td>\n",
       "      <td>casa</td>\n",
       "      <td>27.505222</td>\n",
       "      <td>73.668268</td>\n",
       "      <td>30.320819</td>\n",
       "      <td>74.692537</td>\n",
       "      <td>0</td>\n",
       "      <td>8</td>\n",
       "      <td>28.500020</td>\n",
       "      <td>72</td>\n",
       "      <td>455.521105</td>\n",
       "    </tr>\n",
       "    <tr>\n",
       "      <th>489</th>\n",
       "      <td>584.247648</td>\n",
       "      <td>casa</td>\n",
       "      <td>24.297012</td>\n",
       "      <td>61.238683</td>\n",
       "      <td>3.106813</td>\n",
       "      <td>57.589606</td>\n",
       "      <td>0</td>\n",
       "      <td>7</td>\n",
       "      <td>24.185484</td>\n",
       "      <td>51</td>\n",
       "      <td>450.618703</td>\n",
       "    </tr>\n",
       "    <tr>\n",
       "      <th>498</th>\n",
       "      <td>639.080935</td>\n",
       "      <td>apartamento</td>\n",
       "      <td>32.637988</td>\n",
       "      <td>76.463793</td>\n",
       "      <td>34.562017</td>\n",
       "      <td>51.273768</td>\n",
       "      <td>0</td>\n",
       "      <td>5</td>\n",
       "      <td>31.496553</td>\n",
       "      <td>49</td>\n",
       "      <td>488.477663</td>\n",
       "    </tr>\n",
       "  </tbody>\n",
       "</table>\n",
       "<p>123 rows × 11 columns</p>\n",
       "</div>"
      ],
      "text/plain": [
       "        tamanho         tipo  dist_centro       vida    rodovia         ar  \\\n",
       "1    572.320514         casa    15.838171  55.132153   8.006340  67.396325   \n",
       "2    515.882047         casa    33.539122  62.530447  47.445318  48.336982   \n",
       "7    666.741258  apartamento    44.603144  71.926071  91.513882  43.077183   \n",
       "8    416.396989         casa    37.648054  31.903733  85.451544  46.746370   \n",
       "12   694.280249  apartamento    33.946702  81.950009  84.551081  61.363396   \n",
       "..          ...          ...          ...        ...        ...        ...   \n",
       "481  404.554191         casa    45.545652  70.606871  53.660751  62.300850   \n",
       "484  392.850877  apartamento    52.071348  40.498264  84.253451  47.260465   \n",
       "485  501.504322         casa    27.505222  73.668268  30.320819  74.692537   \n",
       "489  584.247648         casa    24.297012  61.238683   3.106813  57.589606   \n",
       "498  639.080935  apartamento    32.637988  76.463793  34.562017  51.273768   \n",
       "\n",
       "     rio  quartos  criminalidade  idade       preco  \n",
       "1      0        7      58.033589     43  477.821438  \n",
       "2      0        7      37.916789     21  379.397274  \n",
       "7      1        4      28.255560     36  439.779266  \n",
       "8      0        5      71.531668     53  320.501755  \n",
       "12     0        8      20.730264     55  424.599188  \n",
       "..   ...      ...            ...    ...         ...  \n",
       "481    0        5      55.416531     20  363.086910  \n",
       "484    1        5      61.289753     63  312.941440  \n",
       "485    0        8      28.500020     72  455.521105  \n",
       "489    0        7      24.185484     51  450.618703  \n",
       "498    0        5      31.496553     49  488.477663  \n",
       "\n",
       "[123 rows x 11 columns]"
      ]
     },
     "execution_count": 17,
     "metadata": {},
     "output_type": "execute_result"
    }
   ],
   "source": [
    "mais_3_quartos = dataset.loc[dataset[\"quartos\"] > 3, :]\n",
    "mais_3_quartos"
   ]
  },
  {
   "cell_type": "markdown",
   "metadata": {},
   "source": [
    "#### Selecionando linhas e colunas baseado nos índices\n",
    "\n",
    "Método iloc\n",
    "\n",
    "dataset.iloc[linhas, colunas]\n",
    "\n",
    "##### Selecione todos os valores entre as linhas 10 e 20 (inclusive) e entre as colunas 2 e 4 (inclusive)"
   ]
  },
  {
   "cell_type": "code",
   "execution_count": 18,
   "metadata": {},
   "outputs": [
    {
     "data": {
      "text/html": [
       "<div>\n",
       "<style scoped>\n",
       "    .dataframe tbody tr th:only-of-type {\n",
       "        vertical-align: middle;\n",
       "    }\n",
       "\n",
       "    .dataframe tbody tr th {\n",
       "        vertical-align: top;\n",
       "    }\n",
       "\n",
       "    .dataframe thead th {\n",
       "        text-align: right;\n",
       "    }\n",
       "</style>\n",
       "<table border=\"1\" class=\"dataframe\">\n",
       "  <thead>\n",
       "    <tr style=\"text-align: right;\">\n",
       "      <th></th>\n",
       "      <th>dist_centro</th>\n",
       "      <th>vida</th>\n",
       "      <th>rodovia</th>\n",
       "    </tr>\n",
       "  </thead>\n",
       "  <tbody>\n",
       "    <tr>\n",
       "      <th>10</th>\n",
       "      <td>77.761609</td>\n",
       "      <td>0.190697</td>\n",
       "      <td>5.233286</td>\n",
       "    </tr>\n",
       "    <tr>\n",
       "      <th>11</th>\n",
       "      <td>33.258893</td>\n",
       "      <td>53.516713</td>\n",
       "      <td>78.284862</td>\n",
       "    </tr>\n",
       "    <tr>\n",
       "      <th>12</th>\n",
       "      <td>33.946702</td>\n",
       "      <td>81.950009</td>\n",
       "      <td>84.551081</td>\n",
       "    </tr>\n",
       "    <tr>\n",
       "      <th>13</th>\n",
       "      <td>62.926613</td>\n",
       "      <td>10.710660</td>\n",
       "      <td>79.908215</td>\n",
       "    </tr>\n",
       "    <tr>\n",
       "      <th>14</th>\n",
       "      <td>60.002466</td>\n",
       "      <td>25.279927</td>\n",
       "      <td>50.847904</td>\n",
       "    </tr>\n",
       "    <tr>\n",
       "      <th>15</th>\n",
       "      <td>66.914449</td>\n",
       "      <td>19.774378</td>\n",
       "      <td>23.290184</td>\n",
       "    </tr>\n",
       "    <tr>\n",
       "      <th>16</th>\n",
       "      <td>50.448680</td>\n",
       "      <td>27.105019</td>\n",
       "      <td>84.532998</td>\n",
       "    </tr>\n",
       "    <tr>\n",
       "      <th>17</th>\n",
       "      <td>30.573156</td>\n",
       "      <td>62.823009</td>\n",
       "      <td>72.716281</td>\n",
       "    </tr>\n",
       "    <tr>\n",
       "      <th>18</th>\n",
       "      <td>61.346243</td>\n",
       "      <td>17.822961</td>\n",
       "      <td>98.076117</td>\n",
       "    </tr>\n",
       "    <tr>\n",
       "      <th>19</th>\n",
       "      <td>70.500541</td>\n",
       "      <td>40.401556</td>\n",
       "      <td>15.569260</td>\n",
       "    </tr>\n",
       "    <tr>\n",
       "      <th>20</th>\n",
       "      <td>39.921582</td>\n",
       "      <td>59.931618</td>\n",
       "      <td>22.566458</td>\n",
       "    </tr>\n",
       "  </tbody>\n",
       "</table>\n",
       "</div>"
      ],
      "text/plain": [
       "    dist_centro       vida    rodovia\n",
       "10    77.761609   0.190697   5.233286\n",
       "11    33.258893  53.516713  78.284862\n",
       "12    33.946702  81.950009  84.551081\n",
       "13    62.926613  10.710660  79.908215\n",
       "14    60.002466  25.279927  50.847904\n",
       "15    66.914449  19.774378  23.290184\n",
       "16    50.448680  27.105019  84.532998\n",
       "17    30.573156  62.823009  72.716281\n",
       "18    61.346243  17.822961  98.076117\n",
       "19    70.500541  40.401556  15.569260\n",
       "20    39.921582  59.931618  22.566458"
      ]
     },
     "execution_count": 18,
     "metadata": {},
     "output_type": "execute_result"
    }
   ],
   "source": [
    "dataset_iloc = dataset.iloc[10:21, 2:5]\n",
    "dataset_iloc"
   ]
  },
  {
   "cell_type": "markdown",
   "metadata": {},
   "source": [
    "#### Agrupando dados\n",
    "\n",
    "##### Qual a média de preços de acordo com a quantidade de quartos?"
   ]
  },
  {
   "cell_type": "code",
   "execution_count": 20,
   "metadata": {},
   "outputs": [
    {
     "data": {
      "text/plain": [
       "quartos\n",
       "0    186.790292\n",
       "1    229.727274\n",
       "2    278.334397\n",
       "3    329.619320\n",
       "4    351.796280\n",
       "5    364.702640\n",
       "6    386.384250\n",
       "7    442.069064\n",
       "8    459.927949\n",
       "9    489.133436\n",
       "Name: preco, dtype: float64"
      ]
     },
     "execution_count": 20,
     "metadata": {},
     "output_type": "execute_result"
    }
   ],
   "source": [
    "quarto_preco = dataset.groupby([\"quartos\"])[\"preco\"].mean()\n",
    "quarto_preco"
   ]
  },
  {
   "cell_type": "markdown",
   "metadata": {},
   "source": [
    "##### Qual opreço médio de cada tipo de imóvel?"
   ]
  },
  {
   "cell_type": "code",
   "execution_count": 21,
   "metadata": {},
   "outputs": [
    {
     "data": {
      "text/plain": [
       "tipo\n",
       "apartamento    282.300408\n",
       "casa           265.533241\n",
       "Name: preco, dtype: float64"
      ]
     },
     "execution_count": 21,
     "metadata": {},
     "output_type": "execute_result"
    }
   ],
   "source": [
    "imovel_tamanho = dataset.groupby([\"tipo\"])[\"preco\"].mean()\n",
    "imovel_tamanho"
   ]
  },
  {
   "cell_type": "markdown",
   "metadata": {},
   "source": [
    "---"
   ]
  },
  {
   "cell_type": "markdown",
   "metadata": {},
   "source": [
    "##### OK, mas como eu visualizo isso tudo?\n",
    "\n",
    "### Matplotlib\n",
    "\n",
    "* Biblioteca para visualização de dados\n",
    "\n",
    "* Estrutura básica\n",
    "\n",
    "plt.figure(figsize = (6,4))\n",
    "\n",
    "plt.title(\"\")\n",
    "\n",
    "plt.ylabel(\"\")\n",
    "\n",
    "plt.xlabel(\"\")\n",
    "\n",
    "plt.show()"
   ]
  },
  {
   "cell_type": "markdown",
   "metadata": {},
   "source": [
    "##### Mostre qual a média de preço dos imóveis dependendo do tipo"
   ]
  },
  {
   "cell_type": "code",
   "execution_count": 25,
   "metadata": {},
   "outputs": [
    {
     "data": {
      "image/png": "[encoded data removed]",
      "text/plain": [
       "<Figure size 432x288 with 1 Axes>"
      ]
     },
     "metadata": {
      "needs_background": "light"
     },
     "output_type": "display_data"
    }
   ],
   "source": [
    "preco_tipo = dataset.groupby([\"tipo\"])[\"preco\"].mean()\n",
    "\n",
    "plt.figure(figsize = (6,4))\n",
    "plt.title(\"Tipo x Preco médio\")\n",
    "\n",
    "plt.bar(x = 0, height = preco_tipo[\"casa\"], color = \"green\")\n",
    "plt.bar(x = 1, height = preco_tipo[\"apartamento\"], color = \"blue\")\n",
    "\n",
    "plt.ylabel(\"Preco medio\")\n",
    "plt.xlabel(\"Tipo do imóvel\")\n",
    "plt.xticks(ticks = [0, 1], labels = [\"casa\", \"apartamento\"])\n",
    "\n",
    "plt.show()"
   ]
  },
  {
   "cell_type": "markdown",
   "metadata": {},
   "source": [
    "##### Como é a distribuição dos preços?"
   ]
  },
  {
   "cell_type": "code",
   "execution_count": 22,
   "metadata": {},
   "outputs": [
    {
     "data": {
      "image/png": "[encoded data removed]",
      "text/plain": [
       "<Figure size 432x288 with 1 Axes>"
      ]
     },
     "metadata": {
      "needs_background": "light"
     },
     "output_type": "display_data"
    }
   ],
   "source": [
    "plt.figure(figsize = (6,4))\n",
    "plt.title(\"Distribuição de preços\")\n",
    "\n",
    "plt.hist(dataset['preco'], edgecolor = \"black\")\n",
    "\n",
    "plt.xlabel(\"Preco\")\n",
    "plt.ylabel(\"Ocorrências\")\n",
    "\n",
    "plt.show()"
   ]
  },
  {
   "cell_type": "markdown",
   "metadata": {},
   "source": [
    "##### E a distribuição dos tamanhos?"
   ]
  },
  {
   "cell_type": "code",
   "execution_count": 23,
   "metadata": {},
   "outputs": [
    {
     "data": {
      "image/png": "[encoded data removed]",
      "text/plain": [
       "<Figure size 432x288 with 1 Axes>"
      ]
     },
     "metadata": {
      "needs_background": "light"
     },
     "output_type": "display_data"
    }
   ],
   "source": [
    "plt.figure(figsize = (6,4))\n",
    "plt.title(\"Distribuição de tamanhos\")\n",
    "\n",
    "plt.hist(dataset['tamanho'], edgecolor = \"black\")\n",
    "\n",
    "plt.xlabel(\"Tamanho\")\n",
    "plt.ylabel(\"Ocorrências\")\n",
    "\n",
    "plt.show()"
   ]
  },
  {
   "cell_type": "markdown",
   "metadata": {},
   "source": [
    "##### Qual a relação entre o preço do imóvel e o seu tamanho?"
   ]
  },
  {
   "cell_type": "code",
   "execution_count": 22,
   "metadata": {},
   "outputs": [
    {
     "data": {
      "image/png": "[encoded data removed]",
      "text/plain": [
       "<Figure size 432x288 with 1 Axes>"
      ]
     },
     "metadata": {
      "needs_background": "light"
     },
     "output_type": "display_data"
    }
   ],
   "source": [
    "plt.figure(figsize = (6,4))\n",
    "plt.title(\"Preço x Tamanho\")\n",
    "\n",
    "plt.scatter(x = dataset[\"tamanho\"], y = dataset[\"preco\"], c = \"black\")\n",
    "plt.ylabel(\"Preço dos imóveis\")\n",
    "plt.xlabel(\"Tamanho dos imóveis\")\n",
    "\n",
    "plt.show()"
   ]
  },
  {
   "cell_type": "markdown",
   "metadata": {},
   "source": [
    "##### Qual a relação entre os preços dos imóveis e a taxa de criminalidade?"
   ]
  },
  {
   "cell_type": "code",
   "execution_count": 23,
   "metadata": {},
   "outputs": [
    {
     "data": {
      "image/png": "[encoded data removed]",
      "text/plain": [
       "<Figure size 432x288 with 1 Axes>"
      ]
     },
     "metadata": {
      "needs_background": "light"
     },
     "output_type": "display_data"
    }
   ],
   "source": [
    "plt.figure(figsize = (6,4))\n",
    "plt.title(\"Preço x Criminalidade\")\n",
    "\n",
    "plt.scatter(x = dataset[\"criminalidade\"], y = dataset[\"preco\"], c = \"red\")\n",
    "plt.ylabel(\"Preco dos imoveis\")\n",
    "plt.xlabel(\"Taxa de criminalidade\")\n",
    "\n",
    "plt.show()"
   ]
  },
  {
   "cell_type": "markdown",
   "metadata": {},
   "source": [
    "##### E a relação entre a distância para o centro e a qualidade de vida?"
   ]
  },
  {
   "cell_type": "code",
   "execution_count": 24,
   "metadata": {},
   "outputs": [
    {
     "data": {
      "image/png": "[encoded data removed]",
      "text/plain": [
       "<Figure size 432x288 with 1 Axes>"
      ]
     },
     "metadata": {
      "needs_background": "light"
     },
     "output_type": "display_data"
    }
   ],
   "source": [
    "plt.figure(figsize = (6,4))\n",
    "plt.title(\"Distancia centro x Qualidade de vida\")\n",
    "\n",
    "plt.scatter(x = dataset[\"dist_centro\"], y = dataset[\"vida\"], c = \"blue\")\n",
    "plt.ylabel(\"Qualidade de vida\")\n",
    "plt.xlabel(\"Distancia do centro\")\n",
    "\n",
    "plt.show()"
   ]
  },
  {
   "cell_type": "markdown",
   "metadata": {},
   "source": [
    "##### Em resumo, qual a relação entre todas as variáveis?\n",
    "##### Correlação / Mapa de calor"
   ]
  },
  {
   "cell_type": "code",
   "execution_count": 28,
   "metadata": {},
   "outputs": [
    {
     "data": {
      "text/plain": [
       "<AxesSubplot:>"
      ]
     },
     "execution_count": 28,
     "metadata": {},
     "output_type": "execute_result"
    },
    {
     "data": {
      "image/png": "[encoded data removed]",
      "text/plain": [
       "<Figure size 432x288 with 2 Axes>"
      ]
     },
     "metadata": {
      "needs_background": "light"
     },
     "output_type": "display_data"
    }
   ],
   "source": [
    "correlacao = dataset.corr()\n",
    "\n",
    "sns.heatmap(correlacao)"
   ]
  },
  {
   "cell_type": "markdown",
   "metadata": {},
   "source": [
    "### Machine Learning\n",
    "\n",
    "#### Ok, fizemos uma breve análise dos dados, e agora? O que fazer?\n",
    "#### Que tal construir um modelo de aprendizado de máquina que nos diga qual o valor ideal de um imóvel baseado nas suas características?\n",
    "#### Vamos utilizar um modelo de regressão chamado Linear Regression"
   ]
  },
  {
   "cell_type": "code",
   "execution_count": 37,
   "metadata": {},
   "outputs": [],
   "source": [
    "from sklearn.model_selection import train_test_split\n",
    "from sklearn.metrics import r2_score, mean_squared_error\n",
    "from sklearn.preprocessing import MinMaxScaler\n",
    "from sklearn.linear_model import LinearRegression"
   ]
  },
  {
   "cell_type": "markdown",
   "metadata": {},
   "source": [
    "##### Escalonando dados"
   ]
  },
  {
   "cell_type": "code",
   "execution_count": 43,
   "metadata": {},
   "outputs": [
    {
     "data": {
      "text/plain": [
       "array([[0.30182821, 0.6372779 , 0.29368256, ..., 0.11111111, 0.73506654,\n",
       "        0.37400277],\n",
       "       [0.74736108, 0.19797713, 0.61175685, ..., 0.77777778, 0.64394302,\n",
       "        0.95723216],\n",
       "       [0.66711234, 0.41923902, 0.69413466, ..., 0.77777778, 0.41987262,\n",
       "        0.73583358],\n",
       "       ...,\n",
       "       [0.16760376, 0.91093832, 0.36264212, ..., 0.        , 0.56343407,\n",
       "        0.07356293],\n",
       "       [0.84228639, 0.40797485, 0.84927834, ..., 0.55555556, 0.34836099,\n",
       "        0.98120262],\n",
       "       [0.84614835, 0.36518309, 0.65886048, ..., 0.11111111, 0.54049153,\n",
       "        0.99316325]])"
      ]
     },
     "execution_count": 43,
     "metadata": {},
     "output_type": "execute_result"
    }
   ],
   "source": [
    "data_model = dataset.loc[:, [\"tamanho\", \"dist_centro\", \"vida\", \"ar\", \"quartos\", \"criminalidade\",\"preco\"]]\n",
    "\n",
    "scaler = MinMaxScaler()\n",
    "scaler.fit(data_model)\n",
    "data_model = scaler.transform(data_model)\n",
    "data_model"
   ]
  },
  {
   "cell_type": "markdown",
   "metadata": {},
   "source": [
    "##### Definindo variáveis de entrada, saída, treino e teste"
   ]
  },
  {
   "cell_type": "code",
   "execution_count": 50,
   "metadata": {},
   "outputs": [],
   "source": [
    "x = data_model[:, :-1]\n",
    "y = data_model[:, -1]\n",
    "\n",
    "x_train, x_test, y_train, y_test = train_test_split(x, y, test_size = 0.2)"
   ]
  },
  {
   "cell_type": "markdown",
   "metadata": {},
   "source": [
    "##### Criando e treinando modelo"
   ]
  },
  {
   "cell_type": "code",
   "execution_count": 51,
   "metadata": {},
   "outputs": [
    {
     "data": {
      "text/plain": [
       "LinearRegression()"
      ]
     },
     "execution_count": 51,
     "metadata": {},
     "output_type": "execute_result"
    }
   ],
   "source": [
    "modelo = LinearRegression()\n",
    "\n",
    "modelo.fit(x_train, y_train)"
   ]
  },
  {
   "cell_type": "markdown",
   "metadata": {},
   "source": [
    "##### Prevendo valor dos dados de teste"
   ]
  },
  {
   "cell_type": "code",
   "execution_count": 52,
   "metadata": {},
   "outputs": [
    {
     "name": "stdout",
     "output_type": "stream",
     "text": [
      "Pontuação: 0.8640579220352117\n",
      "Erro: 0.012066687296694517\n"
     ]
    }
   ],
   "source": [
    "previsao = modelo.predict(x_test)\n",
    "\n",
    "pontuacao = r2_score(y_test, previsao)\n",
    "erro = mean_squared_error(y_test, previsao)\n",
    "\n",
    "print(f\"Pontuação: {pontuacao}\")\n",
    "print(f\"Erro: {erro}\")"
   ]
  }
 ],
 "metadata": {
  "kernelspec": {
   "display_name": "Python 3",
   "language": "python",
   "name": "python3"
  },
  "language_info": {
   "codemirror_mode": {
    "name": "ipython",
    "version": 3
   },
   "file_extension": ".py",
   "mimetype": "text/x-python",
   "name": "python",
   "nbconvert_exporter": "python",
   "pygments_lexer": "ipython3",
   "version": "3.7.9"
  }
 },
 "nbformat": 4,
 "nbformat_minor": 4
}
