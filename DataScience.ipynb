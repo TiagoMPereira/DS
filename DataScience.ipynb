{
 "cells": [
  {
   "cell_type": "markdown",
   "metadata": {},
   "source": [
    "# Data Science\n",
    "## Como começar na Ciência de Dados\n",
    "######                                                    Tiago de Morais Pereira - Maio/2022"
   ]
  },
  {
   "cell_type": "markdown",
   "metadata": {},
   "source": [
    "___"
   ]
  },
  {
   "cell_type": "code",
   "execution_count": null,
   "metadata": {},
   "outputs": [],
   "source": [
    "# IMPORTAÇÕES\n",
    "import numpy as np                # Numpy\n",
    "import pandas as pd               # Pandas\n",
    "import matplotlib.pyplot as plt   # Matplotlib\n",
    "import seaborn as sns             # Seaborn"
   ]
  },
  {
   "cell_type": "markdown",
   "metadata": {},
   "source": [
    "### Numpy\n",
    "\n",
    "#### Numerical Python\n",
    "- Biblioteca muito utlizada para computação científica\n",
    "- Costruída com base em C, o que traz velocidade na execução\n",
    "- Dados homogêneos\n",
    "- Estrutura de arrays"
   ]
  },
  {
   "cell_type": "markdown",
   "metadata": {},
   "source": [
    "#### Arrays\n",
    "\n",
    "#### Criando arrays"
   ]
  },
  {
   "cell_type": "code",
   "execution_count": null,
   "metadata": {},
   "outputs": [],
   "source": [
    "array1 = np.array([0, 1, 2])\n",
    "array2 = np.array([10, 20, 30])\n",
    "\n",
    "print(array1)\n",
    "print(array2)\n",
    "print(array1 + array2)"
   ]
  },
  {
   "cell_type": "markdown",
   "metadata": {},
   "source": [
    "#### Array bidimensional"
   ]
  },
  {
   "cell_type": "code",
   "execution_count": null,
   "metadata": {},
   "outputs": [],
   "source": [
    "array2d = np.array([[1, 2, 3],[4, 5, 6]])\n",
    "\n",
    "print(array2d)"
   ]
  },
  {
   "cell_type": "markdown",
   "metadata": {},
   "source": [
    "#### Array aleatório"
   ]
  },
  {
   "cell_type": "code",
   "execution_count": null,
   "metadata": {},
   "outputs": [],
   "source": [
    "random_array = np.random.random(size = 10)\n",
    "\n",
    "print(random_array)"
   ]
  },
  {
   "cell_type": "markdown",
   "metadata": {},
   "source": [
    "#### Estatísticas do array"
   ]
  },
  {
   "cell_type": "code",
   "execution_count": null,
   "metadata": {},
   "outputs": [],
   "source": [
    "maximo = np.max(random_array)\n",
    "minimo = np.min(random_array)\n",
    "media = np.mean(random_array)\n",
    "mediana = np.median(random_array)\n",
    "\n",
    "print(f\"Maximo: {maximo}\")\n",
    "print(f\"Minimo: {minimo}\")\n",
    "print(f\"Média: {media}\")\n",
    "print(f\"Mediana: {mediana}\")"
   ]
  },
  {
   "cell_type": "markdown",
   "metadata": {},
   "source": [
    "#### Ordenando array e acessando valores"
   ]
  },
  {
   "cell_type": "code",
   "execution_count": null,
   "metadata": {},
   "outputs": [],
   "source": [
    "random_array.sort()          # Ordenar um array\n",
    "\n",
    "print(random_array)\n",
    "\n",
    "print(random_array[0])       # Acessando o primeiro valor\n",
    "\n",
    "print(random_array[-1])      # Acessando último valor\n",
    "\n",
    "print(random_array[1:6])     # Acessando valores entre as posições 1 e 5 (inclusive)\n",
    "\n",
    "print(random_array[1:])      # Acessando todos os valores a partir do segundo"
   ]
  },
  {
   "cell_type": "markdown",
   "metadata": {},
   "source": [
    "---"
   ]
  },
  {
   "cell_type": "markdown",
   "metadata": {},
   "source": [
    "### Pandas\n",
    "\n",
    "- Biblioteca para manipulação e análise de dados"
   ]
  },
  {
   "cell_type": "markdown",
   "metadata": {},
   "source": [
    "#### Abrindo um dataset no formato .csv"
   ]
  },
  {
   "cell_type": "code",
   "execution_count": null,
   "metadata": {},
   "outputs": [],
   "source": [
    "dataset = pd.read_csv(\"dataset.csv\", index_col = 0)\n",
    "dataset"
   ]
  },
  {
   "cell_type": "markdown",
   "metadata": {},
   "source": [
    "#### Separando coluna específica"
   ]
  },
  {
   "cell_type": "code",
   "execution_count": null,
   "metadata": {},
   "outputs": [],
   "source": [
    "tamanho = dataset[\"tamanho\"]\n",
    "tamanho"
   ]
  },
  {
   "cell_type": "markdown",
   "metadata": {},
   "source": [
    "#### Retirando colunas com o método loc\n",
    "\n",
    "dataset.loc[linhas, colunas]\n",
    "\n",
    "##### Selecione todas as linhas das colunas \"tipo\" e \"quartos\""
   ]
  },
  {
   "cell_type": "code",
   "execution_count": null,
   "metadata": {},
   "outputs": [],
   "source": [
    "tipo_quarto = dataset.loc[:, [\"tipo\", \"quartos\"]]\n",
    "tipo_quarto"
   ]
  },
  {
   "cell_type": "markdown",
   "metadata": {},
   "source": [
    "##### Selecione as 10 primeiras linhas das colunas \"vida\" e \"rio\""
   ]
  },
  {
   "cell_type": "code",
   "execution_count": null,
   "metadata": {},
   "outputs": [],
   "source": [
    "vida_rio = dataset.loc[:10, [\"vida\",\"rio\"]]\n",
    "vida_rio"
   ]
  },
  {
   "cell_type": "markdown",
   "metadata": {},
   "source": [
    "##### Selecione todas as colunas dos imóveis com mais de três quartos"
   ]
  },
  {
   "cell_type": "code",
   "execution_count": null,
   "metadata": {},
   "outputs": [],
   "source": [
    "mais_3_quartos = dataset.loc[dataset[\"quartos\"] > 3, :]\n",
    "mais_3_quartos"
   ]
  },
  {
   "cell_type": "markdown",
   "metadata": {},
   "source": [
    "#### Selecionando linhas e colunas baseado nos índices\n",
    "\n",
    "Método iloc\n",
    "\n",
    "dataset.iloc[linhas, colunas]\n",
    "\n",
    "##### Selecione todos os valores entre as linhas 10 e 20 (inclusive) e entre as colunas 2 e 4 (inclusive)"
   ]
  },
  {
   "cell_type": "code",
   "execution_count": null,
   "metadata": {},
   "outputs": [],
   "source": [
    "dataset_iloc = dataset.iloc[10:21, 2:5]\n",
    "dataset_iloc"
   ]
  },
  {
   "cell_type": "markdown",
   "metadata": {},
   "source": [
    "#### Agrupando dados\n",
    "\n",
    "##### Qual a média de preços de acordo com a quantidade de quartos?"
   ]
  },
  {
   "cell_type": "code",
   "execution_count": null,
   "metadata": {},
   "outputs": [],
   "source": [
    "quarto_preco = dataset.groupby([\"quartos\"])[\"preco\"].mean()\n",
    "quarto_preco"
   ]
  },
  {
   "cell_type": "markdown",
   "metadata": {},
   "source": [
    "##### Qual opreço médio de cada tipo de imóvel?"
   ]
  },
  {
   "cell_type": "code",
   "execution_count": null,
   "metadata": {},
   "outputs": [],
   "source": [
    "imovel_tamanho = dataset.groupby([\"tipo\"])[\"preco\"].mean()\n",
    "imovel_tamanho"
   ]
  },
  {
   "cell_type": "markdown",
   "metadata": {},
   "source": [
    "---"
   ]
  },
  {
   "cell_type": "markdown",
   "metadata": {},
   "source": [
    "##### OK, mas como eu visualizo isso tudo?\n",
    "\n",
    "### Matplotlib\n",
    "\n",
    "* Biblioteca para visualização de dados\n",
    "\n",
    "* Estrutura básica\n",
    "\n",
    "plt.figure(figsize = (6,4))\n",
    "\n",
    "plt.title(\"\")\n",
    "\n",
    "plt.ylabel(\"\")\n",
    "\n",
    "plt.xlabel(\"\")\n",
    "\n",
    "plt.show()"
   ]
  },
  {
   "cell_type": "markdown",
   "metadata": {},
   "source": [
    "##### Mostre qual a média de preço dos imóveis dependendo do tipo"
   ]
  },
  {
   "cell_type": "code",
   "execution_count": null,
   "metadata": {},
   "outputs": [],
   "source": [
    "preco_tipo = dataset.groupby([\"tipo\"])[\"preco\"].mean()\n",
    "\n",
    "plt.figure(figsize = (6,4))\n",
    "plt.title(\"Tipo x Preco médio\")\n",
    "\n",
    "plt.bar(x = 0, height = preco_tipo[\"casa\"], color = \"green\")\n",
    "plt.bar(x = 1, height = preco_tipo[\"apartamento\"], color = \"blue\")\n",
    "\n",
    "plt.ylabel(\"Preco medio\")\n",
    "plt.xlabel(\"Tipo do imóvel\")\n",
    "plt.xticks(ticks = [0, 1], labels = [\"casa\", \"apartamento\"])\n",
    "\n",
    "plt.show()"
   ]
  },
  {
   "cell_type": "markdown",
   "metadata": {},
   "source": [
    "##### Como é a distribuição dos preços?"
   ]
  },
  {
   "cell_type": "code",
   "execution_count": null,
   "metadata": {},
   "outputs": [],
   "source": [
    "plt.figure(figsize = (6,4))\n",
    "plt.title(\"Distribuição de preços\")\n",
    "\n",
    "plt.hist(dataset['preco'], edgecolor = \"black\")\n",
    "\n",
    "plt.xlabel(\"Preco\")\n",
    "plt.ylabel(\"Ocorrências\")\n",
    "\n",
    "plt.show()"
   ]
  },
  {
   "cell_type": "markdown",
   "metadata": {},
   "source": [
    "##### E a distribuição dos tamanhos?"
   ]
  },
  {
   "cell_type": "code",
   "execution_count": null,
   "metadata": {},
   "outputs": [],
   "source": [
    "plt.figure(figsize = (6,4))\n",
    "plt.title(\"Distribuição de tamanhos\")\n",
    "\n",
    "plt.hist(dataset['tamanho'], edgecolor = \"black\")\n",
    "\n",
    "plt.xlabel(\"Tamanho\")\n",
    "plt.ylabel(\"Ocorrências\")\n",
    "\n",
    "plt.show()"
   ]
  },
  {
   "cell_type": "markdown",
   "metadata": {},
   "source": [
    "##### Qual a relação entre o preço do imóvel e o seu tamanho?"
   ]
  },
  {
   "cell_type": "code",
   "execution_count": null,
   "metadata": {},
   "outputs": [],
   "source": [
    "plt.figure(figsize = (6,4))\n",
    "plt.title(\"Preço x Tamanho\")\n",
    "\n",
    "plt.scatter(x = dataset[\"tamanho\"], y = dataset[\"preco\"], c = \"black\")\n",
    "plt.ylabel(\"Preço dos imóveis\")\n",
    "plt.xlabel(\"Tamanho dos imóveis\")\n",
    "\n",
    "plt.show()"
   ]
  },
  {
   "cell_type": "markdown",
   "metadata": {},
   "source": [
    "##### Qual a relação entre os preços dos imóveis e a taxa de criminalidade?"
   ]
  },
  {
   "cell_type": "code",
   "execution_count": null,
   "metadata": {},
   "outputs": [],
   "source": [
    "plt.figure(figsize = (6,4))\n",
    "plt.title(\"Preço x Criminalidade\")\n",
    "\n",
    "plt.scatter(x = dataset[\"criminalidade\"], y = dataset[\"preco\"], c = \"red\")\n",
    "plt.ylabel(\"Preco dos imoveis\")\n",
    "plt.xlabel(\"Taxa de criminalidade\")\n",
    "\n",
    "plt.show()"
   ]
  },
  {
   "cell_type": "markdown",
   "metadata": {},
   "source": [
    "##### E a relação entre a distância para o centro e a qualidade de vida?"
   ]
  },
  {
   "cell_type": "code",
   "execution_count": null,
   "metadata": {},
   "outputs": [],
   "source": [
    "plt.figure(figsize = (6,4))\n",
    "plt.title(\"Distancia centro x Qualidade de vida\")\n",
    "\n",
    "plt.scatter(x = dataset[\"dist_centro\"], y = dataset[\"vida\"], c = \"blue\")\n",
    "plt.ylabel(\"Qualidade de vida\")\n",
    "plt.xlabel(\"Distancia do centro\")\n",
    "\n",
    "plt.show()"
   ]
  },
  {
   "cell_type": "markdown",
   "metadata": {},
   "source": [
    "##### Em resumo, qual a relação entre todas as variáveis?\n",
    "##### Correlação / Mapa de calor"
   ]
  },
  {
   "cell_type": "code",
   "execution_count": null,
   "metadata": {},
   "outputs": [],
   "source": [
    "correlacao = dataset.corr()\n",
    "\n",
    "sns.heatmap(correlacao)"
   ]
  },
  {
   "cell_type": "markdown",
   "metadata": {},
   "source": [
    "### Machine Learning\n",
    "\n",
    "#### Ok, fizemos uma breve análise dos dados, e agora? O que fazer?\n",
    "#### Que tal construir um modelo de aprendizado de máquina que nos diga qual o valor ideal de um imóvel baseado nas suas características?\n",
    "#### Vamos utilizar um modelo de regressão chamado Linear Regression"
   ]
  },
  {
   "cell_type": "code",
   "execution_count": null,
   "metadata": {},
   "outputs": [],
   "source": [
    "from sklearn.model_selection import train_test_split\n",
    "from sklearn.metrics import r2_score, mean_squared_error\n",
    "from sklearn.preprocessing import MinMaxScaler\n",
    "from sklearn.linear_model import LinearRegression"
   ]
  },
  {
   "cell_type": "markdown",
   "metadata": {},
   "source": [
    "##### Escalonando dados"
   ]
  },
  {
   "cell_type": "code",
   "execution_count": null,
   "metadata": {},
   "outputs": [],
   "source": [
    "data_model = dataset.loc[:, [\"tamanho\", \"dist_centro\", \"vida\", \"ar\", \"quartos\", \"criminalidade\",\"preco\"]]\n",
    "\n",
    "scaler = MinMaxScaler()\n",
    "scaler.fit(data_model)\n",
    "data_model = scaler.transform(data_model)\n",
    "data_model"
   ]
  },
  {
   "cell_type": "markdown",
   "metadata": {},
   "source": [
    "##### Definindo variáveis de entrada, saída, treino e teste"
   ]
  },
  {
   "cell_type": "code",
   "execution_count": null,
   "metadata": {},
   "outputs": [],
   "source": [
    "x = data_model[:, :-1]\n",
    "y = data_model[:, -1]\n",
    "\n",
    "x_train, x_test, y_train, y_test = train_test_split(x, y, test_size = 0.2)"
   ]
  },
  {
   "cell_type": "markdown",
   "metadata": {},
   "source": [
    "##### Criando e treinando modelo"
   ]
  },
  {
   "cell_type": "code",
   "execution_count": null,
   "metadata": {},
   "outputs": [],
   "source": [
    "modelo = LinearRegression()\n",
    "\n",
    "modelo.fit(x_train, y_train)"
   ]
  },
  {
   "cell_type": "markdown",
   "metadata": {},
   "source": [
    "##### Prevendo valor dos dados de teste"
   ]
  },
  {
   "cell_type": "code",
   "execution_count": null,
   "metadata": {},
   "outputs": [],
   "source": [
    "previsao = modelo.predict(x_test)\n",
    "\n",
    "pontuacao = r2_score(y_test, previsao)\n",
    "erro = mean_squared_error(y_test, previsao)\n",
    "\n",
    "print(f\"Pontuação: {pontuacao}\")\n",
    "print(f\"Erro: {erro}\")"
   ]
  }
 ],
 "metadata": {
  "kernelspec": {
   "display_name": "Python 3",
   "language": "python",
   "name": "python3"
  },
  "language_info": {
   "codemirror_mode": {
    "name": "ipython",
    "version": 3
   },
   "file_extension": ".py",
   "mimetype": "text/x-python",
   "name": "python",
   "nbconvert_exporter": "python",
   "pygments_lexer": "ipython3",
   "version": "3.7.9"
  }
 },
 "nbformat": 4,
 "nbformat_minor": 4
}
